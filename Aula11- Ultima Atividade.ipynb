{
 "cells": [
  {
   "cell_type": "code",
   "execution_count": 56,
   "metadata": {},
   "outputs": [],
   "source": [
    "from pprint import pprint\n",
    "from numpy import array, zeros, diag, diagflat, dot"
   ]
  },
  {
   "cell_type": "code",
   "execution_count": 63,
   "metadata": {},
   "outputs": [],
   "source": [
    "def cond_de_Parada(A, i):\n",
    "    if i == 0: return 1\n",
    "    else:\n",
    "        x = []\n",
    "        for j in range(len(A[i])): x.append(abs(A[i][j] - A[i-1][j]))\n",
    "        G_k = max(x)\n",
    "        Gr_k = G_k/max(A[i])\n",
    "        return Gr_k"
   ]
  },
  {
   "cell_type": "code",
   "execution_count": 49,
   "metadata": {},
   "outputs": [
    {
     "name": "stdout",
     "output_type": "stream",
     "text": [
      "A:\n",
      "[[10 -1  2  0]\n",
      " [-1 11 -1  3]\n",
      " [ 2 -1 10 -1]\n",
      " [ 0  3 -1  8]]\n",
      "b:\n",
      "[  6  25 -11  15]\n",
      "x:\n",
      "[ 1.01519876  1.95369576 -0.96810863  0.97384272]\n"
     ]
    }
   ],
   "source": [
    "\n",
    "\n",
    "def M_jacobi(A,b,N,x):\n",
    "                                                                                                                                                             \n",
    "    if x is None:  # Cria um palpite inicial, se necessário\n",
    "        x = zeros(len(A[0]))\n",
    "\n",
    "                                                                                                                                                 \n",
    "                                                                                                                                                                      \n",
    "    D = diag(A) # Crie um vetor dos elementos diagonais de A  \n",
    "    R = A - diagflat(D) # e subtrai-os de A    \n",
    "\n",
    "                                                                                                                                                                            \n",
    "    for i in range(N):# faz interações N vezes    \n",
    "        x = (b - dot(R,x)) / D\n",
    "    return x\n",
    "\n",
    "a=np.array([[10,-1,2,0],[-1,11,-1,3],[2,-1,10,-1],[0,3,-1,8]])\n",
    "b=np.array([6,25,-11,15])\n",
    "c=array([0,0,0,0])\n",
    "\n",
    "\n",
    "\n",
    "print( \"A:\")\n",
    "print(a)\n",
    "\n",
    "print (\"b:\")\n",
    "print(b)\n",
    "\n",
    "print (\"x:\")\n",
    "print(M_jacobi(a,b,4,c))"
   ]
  },
  {
   "cell_type": "code",
   "execution_count": 79,
   "metadata": {},
   "outputs": [
    {
     "name": "stdout",
     "output_type": "stream",
     "text": [
      "Iteração 0: [0, 0, 0].\n",
      "Iteração 1: [1.0, 0.75, -0.875].\n",
      "Iteração 2: [1.0250000000000001, 0.95, -0.9874999999999999].\n",
      "Iteração 3: [1.0075, 0.99125, -0.9993749999999999].\n"
     ]
    }
   ],
   "source": [
    "#Método de GaussSeidel para o sistema\n",
    "\n",
    "def metodoDeGaussSeidel(A,b,err):\n",
    "    X = []\n",
    "    x = []\n",
    "    for i in range(A.shape[0]): x.append(0)\n",
    "    X.append(x)\n",
    "    \n",
    "    k = 0\n",
    "    \n",
    "    while(cond_de_Parada(X,k) > err):\n",
    "        y = []\n",
    "        for i in range(A.shape[0]):\n",
    "            E = 0\n",
    "            for j in range(A.shape[0]):\n",
    "                if i != j:\n",
    "                    if j < len(y):\n",
    "                        E = E + A[i][j]*y[j]\n",
    "                    else:\n",
    "                        E = E + A[i][j]*X[k][j]\n",
    "            y.append((1/A[i][i])*(b[i][0] - E))\n",
    "        X.append(y)\n",
    "        k = k+1\n",
    "    return X\n",
    "\n",
    "A = np.array([[5,1,1],[3,4,1],[3,3,6]])\n",
    "f = np.array([[5],[6],[0]])\n",
    "\n",
    "X = metodoDeGaussSeidel(A,f,0.05)\n",
    "\n",
    "for i in range(len(X)): print(\"Iteração {0}: {1}.\".format(i, X[i]))"
   ]
  },
  {
   "cell_type": "code",
   "execution_count": 83,
   "metadata": {},
   "outputs": [
    {
     "name": "stdout",
     "output_type": "stream",
     "text": [
      "Iteração 0: [0, 0].\n",
      "Iteração 1: [3.0, 2.0].\n",
      "Iteração 2: [1.0, 1.3333333333333333].\n",
      "Iteração 3: [1.6666666666666667, 1.5555555555555556].\n",
      "Iteração 4: [1.4444444444444444, 1.4814814814814814].\n"
     ]
    },
    {
     "data": {
      "image/png": "[encoded data removed]",
      "text/plain": [
       "<Figure size 432x288 with 1 Axes>"
      ]
     },
     "metadata": {
      "needs_background": "light"
     },
     "output_type": "display_data"
    },
    {
     "name": "stdout",
     "output_type": "stream",
     "text": [
      "None\n"
     ]
    }
   ],
   "source": [
    "#grafico com as interção do Metodo Jacobi\n",
    "#para o sistema \n",
    "# x1 + x2   =3\n",
    "# x1 - 3*x2 =-3\n",
    "import matplotlib.pyplot as plt\n",
    "\n",
    "def interprete_jacobi(I):\n",
    "    x = np.linspace(-2,2)\n",
    "    y1 = 3 - x\n",
    "    y2 = (1/3)*(3 + x)\n",
    "\n",
    "plt.title(\"Figura 1:\")\n",
    "plt.axvline(x=0, color='gray')\n",
    "plt.axhline(y=0, color='gray')\n",
    "plt.grid(True)\n",
    "plt.plot([0,3,2,1,4/3], [0,1,2,5/3,4/3], 'ro')\n",
    "plt.plot(x, y1, color='red')\n",
    "plt.plot(x, y2,color='yellow')\n",
    "g=plt.show()\n",
    "print(interprete_jacobi(g))\n",
    "\n",
    "    "
   ]
  },
  {
   "cell_type": "code",
   "execution_count": null,
   "metadata": {},
   "outputs": [],
   "source": [
    "a=np.array([[10,-1,2,0],[-1,11,-1,3],[2,-1,10,-1],[0,3,-1,8]])\n",
    "b=np.array([6,25,-11,15])"
   ]
  }
 ],
 "metadata": {
  "kernelspec": {
   "display_name": "Python 3",
   "language": "python",
   "name": "python3"
  },
  "language_info": {
   "codemirror_mode": {
    "name": "ipython",
    "version": 3
   },
   "file_extension": ".py",
   "mimetype": "text/x-python",
   "name": "python",
   "nbconvert_exporter": "python",
   "pygments_lexer": "ipython3",
   "version": "3.7.0"
  }
 },
 "nbformat": 4,
 "nbformat_minor": 2
}
