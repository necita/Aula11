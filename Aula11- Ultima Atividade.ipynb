{
 "cells": [
  {
   "cell_type": "code",
   "execution_count": 5,
   "metadata": {},
   "outputs": [],
   "source": [
    "from pprint import pprint\n",
    "from numpy import array, zeros, diag, diagflat, dot"
   ]
  },
  {
   "cell_type": "code",
   "execution_count": 6,
   "metadata": {},
   "outputs": [],
   "source": [
    "#fara a para quando todas as soluçoes forem encontradas\n",
    "def cond_de_Parada(A, i):\n",
    "    if i == 0: return 1\n",
    "    else:\n",
    "        x = []\n",
    "        for j in range(len(A[i])): x.append(abs(A[i][j] - A[i-1][j]))\n",
    "        G_k = max(x)\n",
    "        Gr_k = G_k/max(A[i])\n",
    "        return Gr_k"
   ]
  },
  {
   "cell_type": "code",
   "execution_count": 16,
   "metadata": {},
   "outputs": [
    {
     "name": "stdout",
     "output_type": "stream",
     "text": [
      "A:\n",
      "[[10 -1  2  0]\n",
      " [-1 11 -1  3]\n",
      " [ 2 -1 10 -1]\n",
      " [ 0  3 -1  8]]\n",
      "\n",
      "\n",
      "b:\n",
      "[  6  25 -11  15]\n",
      "\n",
      "\n",
      "Resultado para 4 interações \n",
      "\n",
      "\n",
      "x:\n",
      "[ 1.01519876  1.95369576 -0.96810863  0.97384272]\n"
     ]
    }
   ],
   "source": [
    "#Metodo de jacobi\n",
    "#Resolve o membro esquerdo da expressão Dx=b-Rx, em ordem a (x) ao usar o método resultante da iteração anterior no membro direito.\n",
    "def M_jacobi(A,b,N,x):\n",
    "                                                                                                                                                             \n",
    "    if x is None:  # Cria um palpite inicial, se necessário\n",
    "        x = zeros(len(A[0]))\n",
    "\n",
    "                                                                                                                                                 \n",
    "                                                                                                                                                                      \n",
    "    D = diag(A) # Crie um vetor dos elementos diagonais de A  \n",
    "    R = A - diagflat(D) # e subtrai-os de A    \n",
    "\n",
    "                                                                                                                                                                            \n",
    "    for i in range(N):# faz interações N vezes    \n",
    "        x = (b - dot(R,x)) / D\n",
    "    return x\n",
    "\n",
    "a=np.array([[10,-1,2,0],[-1,11,-1,3],[2,-1,10,-1],[0,3,-1,8]])\n",
    "b=np.array([6,25,-11,15])\n",
    "c=array([0,0,0,0])\n",
    "\n",
    "\n",
    "\n",
    "print( \"A:\")\n",
    "print(a)\n",
    "\n",
    "print (\"\\n\\nb:\")\n",
    "print(b)\n",
    "print(\"\\n\\nResultado para 4 interações \\n\\n\")\n",
    "\n",
    "print (\"x:\")\n",
    "print(M_jacobi(a,b,4,c))"
   ]
  },
  {
   "cell_type": "code",
   "execution_count": 11,
   "metadata": {},
   "outputs": [
    {
     "name": "stdout",
     "output_type": "stream",
     "text": [
      "Interações para o Metodo de GaussSeidel para o sistema [[10 -1  2  0]\n",
      " [-1 11 -1  3]\n",
      " [ 2 -1 10 -1]\n",
      " [ 0  3 -1  8]] \n",
      "\n",
      " [[  6]\n",
      " [ 25]\n",
      " [-11]\n",
      " [ 15]] \n",
      "\n",
      "\n",
      "Iteração 0: [0, 0, 0].\n",
      "Iteração 1: [1.0, 0.75, -0.875].\n",
      "Iteração 2: [1.0250000000000001, 0.95, -0.9874999999999999].\n",
      "Iteração 3: [1.0075, 0.99125, -0.9993749999999999].\n"
     ]
    }
   ],
   "source": [
    "#Método de GaussSeidel para o sistema\n",
    "\n",
    "def M_GaussSeidel(A,b,err):\n",
    "    X = []\n",
    "    x = []\n",
    "    for i in range(A.shape[0]): x.append(0)\n",
    "    X.append(x)\n",
    "    \n",
    "    k = 0\n",
    "    \n",
    "    while(cond_de_Parada(X,k) > err):\n",
    "        y = []\n",
    "        for i in range(A.shape[0]):\n",
    "            E = 0\n",
    "            for j in range(A.shape[0]):\n",
    "                if i != j:\n",
    "                    if j < len(y):\n",
    "                        E = E + A[i][j]*y[j]\n",
    "                    else:\n",
    "                        E = E + A[i][j]*X[k][j]\n",
    "            y.append((1/A[i][i])*(b[i][0] - E))\n",
    "        X.append(y)\n",
    "        k = k+1\n",
    "    return X\n",
    "\n",
    "A = np.array([[5,1,1],[3,4,1],[3,3,6]])\n",
    "f = np.array([[5],[6],[0]])\n",
    "\n",
    "X = M_GaussSeidel(A,f,0.05)\n",
    "print(\"Interações para o Metodo de GaussSeidel para o sistema\", a, \"\\n\\n\",b, \"\\n\\n\")\n",
    "\n",
    "for i in range(len(X)): print(\"Iteração {0}: {1}.\".format(i, X[i]))"
   ]
  },
  {
   "cell_type": "code",
   "execution_count": 89,
   "metadata": {},
   "outputs": [
    {
     "data": {
      "image/png": "[encoded data removed]",
      "text/plain": [
       "<Figure size 432x288 with 1 Axes>"
      ]
     },
     "metadata": {
      "needs_background": "light"
     },
     "output_type": "display_data"
    },
    {
     "name": "stdout",
     "output_type": "stream",
     "text": [
      "None\n"
     ]
    }
   ],
   "source": [
    "#grafico com as interção do Metodo Jacobi\n",
    "#para o sistema \n",
    "# x1 + x2   =3\n",
    "# x1 - 3*x2 =-3\n",
    "import matplotlib.pyplot as plt\n",
    "\n",
    "def interprete_jacobi(I):\n",
    "    x = np.linspace(-5,5)\n",
    "    y1 = 3 - x\n",
    "    y2 = (1/3)*(3 + x)\n",
    "\n",
    "plt.title(\"Figura 1: Interpretação Geométrica do Metodo de Jacobi\")\n",
    "plt.axvline(x=0, color='green')\n",
    "plt.axhline(y=0, color='green')\n",
    "plt.grid(True)\n",
    "plt.plot([0,3,2,1,4/3], [0,1,2,5/3,4/3], 'ro')\n",
    "plt.plot(x, y1, color='red')\n",
    "plt.plot(x, y2,color='yellow')\n",
    "g=plt.show()\n",
    "print(interprete_jacobi(g))\n",
    "\n",
    "    "
   ]
  },
  {
   "cell_type": "code",
   "execution_count": 90,
   "metadata": {},
   "outputs": [],
   "source": [
    "a=np.array([[10,-1,2,0],[-1,11,-1,3],[2,-1,10,-1],[0,3,-1,8]])\n",
    "b=np.array([6,25,-11,15])"
   ]
  },
  {
   "cell_type": "code",
   "execution_count": 94,
   "metadata": {},
   "outputs": [
    {
     "data": {
      "image/png": "[encoded data removed]",
      "text/plain": [
       "<Figure size 432x288 with 1 Axes>"
      ]
     },
     "metadata": {
      "needs_background": "light"
     },
     "output_type": "display_data"
    }
   ],
   "source": [
    "x = np.linspace(-5,5)\n",
    "x1 = 3 - x\n",
    "x2 = (1/3)*(3 + x)\n",
    "\n",
    "plt.title(\"FIG 2: INTERPRETAÇÃO GEOMÉTRICA DO MÉTODO DE GAUSS-SEIDEL\")\n",
    "plt.axvline(x = 0, color = 'black')\n",
    "plt.axhline(y = 0, color = 'black')\n",
    "\n",
    "plt.grid(True)\n",
    "plt.plot([X[0][0],X[1][0],X[2][0],X[3][0],X[4][0]], [X[0][1],X[1][1],X[2][1],X[3][1],X[4][1]], 'ro', color = 'blue')\n",
    "plt.plot(x, x1, color = 'green')\n",
    "plt.plot(x, x2, color = 'red')\n",
    "plt.show()"
   ]
  },
  {
   "cell_type": "code",
   "execution_count": 10,
   "metadata": {},
   "outputs": [
    {
     "name": "stdout",
     "output_type": "stream",
     "text": [
      "valores da interação do metodo de GaussSeidel para o sistema \n",
      "\n",
      " [[10 -1  2  0]\n",
      " [-1 11 -1  3]\n",
      " [ 2 -1 10 -1]\n",
      " [ 0  3 -1  8]] \n",
      "\n",
      " [[  6]\n",
      " [ 25]\n",
      " [-11]\n",
      " [ 15]] \n",
      "\n",
      "\n",
      "0: [0, 0, 0, 0].\n",
      "1: [0.6000000000000001, 2.3272727272727276, -0.9872727272727273, 0.8788636363636363].\n",
      "2: [1.0301818181818183, 2.036938016528926, -1.0144561983471074, 0.9843412190082643].\n",
      "3: [1.006585041322314, 2.003555016904583, -1.0025273846731781, 0.9983509455766341].\n",
      "4: [1.000860978625094, 2.000298250656547, -1.0003072761017007, 0.9998497464910823].\n",
      "5: [1.000091280285995, 2.000021342246459, -1.0000311471834449, 0.9999881032596473].\n",
      "6: [1.0000083636613348, 2.000001173336268, -1.0000027450726756, 0.999999216864815].\n",
      "7: [1.000000666348162, 2.0000000246073677, -1.0000002091224143, 0.9999999646319353].\n",
      "8: [1.0000000442852197, 1.9999999946606364, -1.0000000129277868, 1.000000000386288].\n",
      "9: [1.000000002051621, 1.9999999989059063, -1.0000000004811047, 1.000000000350147].\n",
      "10: [0.9999999999868117, 1.9999999998595697, -0.9999999999763907, 1.0000000000556126].\n",
      "11: [0.9999999999812351, 1.9999999999852733, -0.9999999999921585, 1.0000000000065028].\n",
      "12: [0.9999999999969591, 1.9999999999986628, -0.9999999999988752, 1.000000000000642].\n",
      "13: [0.9999999999996414, 1.9999999999998948, -0.9999999999998747, 1.000000000000055].\n",
      "14: [0.9999999999999645, 1.9999999999999933, -0.9999999999999881, 1.000000000000004].\n",
      "15: [0.999999999999997, 1.9999999999999998, -0.999999999999999, 1.0000000000000002].\n",
      "16: [0.9999999999999999, 2.0, -1.0, 1.0].\n",
      "17: [1.0, 2.0, -1.0, 1.0].\n"
     ]
    }
   ],
   "source": [
    "import numpy as np\n",
    "\n",
    "a= np.array([[10,-1,2,0],[-1,11,-1,3],[2,-1,10,-1],[0,3,-1,8]])\n",
    "b = np.array([[6],[25],[-11],[15]])\n",
    "\n",
    "X = M_GaussSeidel(a,b,2e-16)\n",
    "print(\"valores da interação do metodo de GaussSeidel para o sistema\", \"\\n\\n\", a, \"\\n\\n\", b,\"\\n\\n\")\n",
    "\n",
    "for i in range(len(X)):\n",
    "    print(\"{0}: {1}.\".format(i, X[i]))"
   ]
  },
  {
   "cell_type": "code",
   "execution_count": 106,
   "metadata": {},
   "outputs": [
    {
     "name": "stdout",
     "output_type": "stream",
     "text": [
      "Iteração 0: [0, 0, 0].\n",
      "Iteração 1: [0.7000000000000001, -1.74, 0.9820000000000001].\n",
      "Iteração 2: [0.9498, -1.98636, 1.005948].\n",
      "Iteração 3: [0.9966771999999999, -2.0005250400000003, 1.000822072].\n"
     ]
    }
   ],
   "source": [
    "A = np.array([[10,2,1],[1,5,1],[2,3,10]])\n",
    "b = np.array([[7],[-8],[6]])\n",
    "def M_GaussSeidel(A,b,err):\n",
    "    X = []\n",
    "    x = []\n",
    "    for i in range(A.shape[0]): x.append(0)\n",
    "    X.append(x)\n",
    "    \n",
    "    k = 0\n",
    "    \n",
    "    while(condicaoDeParada(X,k) > err):\n",
    "        y = []\n",
    "        for i in range(A.shape[0]):\n",
    "            sigma = 0\n",
    "            for j in range(A.shape[0]):\n",
    "                if i != j:\n",
    "                    if j < len(y):\n",
    "                        sigma = sigma + A[i][j]*y[j]\n",
    "                    else:\n",
    "                        sigma = sigma + A[i][j]*X[k][j]\n",
    "            y.append((1/A[i][i])*(b[i][0] - sigma))\n",
    "        X.append(y)\n",
    "        k = k+1\n",
    "    return X\n",
    "X = metodoDeGaussSeidel(A,b,0.05)\n",
    "\n",
    "for i in range(len(X)): print(\"Iteração {0}: {1}.\".format(i, X[i]))"
   ]
  }
 ],
 "metadata": {
  "kernelspec": {
   "display_name": "Python 3",
   "language": "python",
   "name": "python3"
  },
  "language_info": {
   "codemirror_mode": {
    "name": "ipython",
    "version": 3
   },
   "file_extension": ".py",
   "mimetype": "text/x-python",
   "name": "python",
   "nbconvert_exporter": "python",
   "pygments_lexer": "ipython3",
   "version": "3.7.0"
  }
 },
 "nbformat": 4,
 "nbformat_minor": 2
}
